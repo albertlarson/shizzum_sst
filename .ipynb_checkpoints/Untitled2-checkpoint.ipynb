{
 "cells": [
  {
   "cell_type": "code",
   "execution_count": null,
   "id": "bfabd9ae-92df-4af7-914c-e407ca22f7dc",
   "metadata": {},
   "outputs": [],
   "source": [
    "import xarray as xr\n",
    "import pandas as pd\n",
    "\n",
    "x = xr.open_dataset('../GAOFS_SST_2023_06_01_h12.nc')\n",
    "x\n",
    "\n",
    "df = pd.DataFrame(\n",
    "    {\n",
    "        'lon': x.lon,\n",
    "        'lat': x.lat,\n",
    "        'temp': x.temperature\n",
    "    }\n",
    ")\n",
    "\n",
    "df\n",
    "\n",
    "df.to_csv('shizz.csv',index=False)"
   ]
  },
  {
   "cell_type": "code",
   "execution_count": 1,
   "id": "0dfe7096-9703-4f6c-968f-cee5457f136c",
   "metadata": {},
   "outputs": [
    {
     "name": "stdout",
     "output_type": "stream",
     "text": [
      "Normalized GeoTIFF file created at output_data_normalized.tif\n"
     ]
    }
   ],
   "source": [
    "import pandas as pd\n",
    "import numpy as np\n",
    "import rasterio\n",
    "from rasterio.transform import from_origin\n",
    "from rasterio.crs import CRS\n",
    "from scipy.interpolate import griddata\n",
    "\n",
    "# Load the data\n",
    "data = pd.read_csv('shizz.csv')\n",
    "\n",
    "# Define the properties of the output GeoTIFF\n",
    "resolution = 0.0002  # Adjust the resolution if necessary\n",
    "x_min, x_max, y_min, y_max = data['lon'].min(), data['lon'].max(), data['lat'].min(), data['lat'].max()\n",
    "width = int((x_max - x_min) / resolution) + 1\n",
    "height = int((y_max - y_min) / resolution) + 1\n",
    "\n",
    "# Transform from origin and resolution\n",
    "transform = from_origin(x_min, y_max, resolution, resolution)\n",
    "\n",
    "# Set the CRS to EPSG:4326\n",
    "crs = CRS.from_epsg(4326)\n",
    "\n",
    "# Initialize the GeoTIFF file with desired properties\n",
    "geotiff_file_path = 'output_data_normalized.tif'\n",
    "with rasterio.open(\n",
    "    geotiff_file_path,\n",
    "    'w',\n",
    "    driver='GTiff',\n",
    "    height=height,\n",
    "    width=width,\n",
    "    count=1,\n",
    "    dtype=np.float32,\n",
    "    crs=crs,\n",
    "    transform=transform,\n",
    ") as dst:\n",
    "\n",
    "    # Grid for interpolation\n",
    "    grid_x, grid_y = np.meshgrid(\n",
    "        np.linspace(x_min, x_max, width),\n",
    "        np.linspace(y_max, y_min, height)\n",
    "    )\n",
    "\n",
    "    # Interpolate the data\n",
    "    interpolated_data = griddata(\n",
    "        points=(data['lon'], data['lat']),\n",
    "        values=data['temp'],\n",
    "        xi=(grid_x, grid_y),\n",
    "        method='linear'\n",
    "    )\n",
    "\n",
    "    # Normalize the data\n",
    "    valid_mask = np.isfinite(interpolated_data)\n",
    "    min_val = np.nanmin(interpolated_data[valid_mask])\n",
    "    max_val = np.nanmax(interpolated_data[valid_mask])\n",
    "    interpolated_data[valid_mask] = (interpolated_data[valid_mask] - min_val) / (max_val - min_val)\n",
    "\n",
    "    # Write the data to the GeoTIFF file\n",
    "    dst.write(interpolated_data, 1)\n",
    "\n",
    "print(f'Normalized GeoTIFF file created at {geotiff_file_path}')"
   ]
  },
  {
   "cell_type": "code",
   "execution_count": null,
   "id": "1f1bb475-6722-4f42-9422-caba38fe4a12",
   "metadata": {},
   "outputs": [],
   "source": []
  }
 ],
 "metadata": {
  "kernelspec": {
   "display_name": "riox",
   "language": "python",
   "name": "riox"
  },
  "language_info": {
   "codemirror_mode": {
    "name": "ipython",
    "version": 3
   },
   "file_extension": ".py",
   "mimetype": "text/x-python",
   "name": "python",
   "nbconvert_exporter": "python",
   "pygments_lexer": "ipython3",
   "version": "3.12.4"
  }
 },
 "nbformat": 4,
 "nbformat_minor": 5
}
